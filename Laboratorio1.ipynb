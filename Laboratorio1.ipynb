{
 "cells": [
  {
   "cell_type": "markdown",
   "id": "9b38cecc-0d2c-470c-b65e-57dd3d5e01f1",
   "metadata": {},
   "source": [
    "*René Ronaldo Godoy Mejía\n",
    "Carnet 23005126*\n"
   ]
  },
  {
   "cell_type": "markdown",
   "id": "e6b60272-cd36-43dd-ac7b-fc4fbc12bafa",
   "metadata": {
    "tags": []
   },
   "source": [
    "# **¿Qué es Git?**\n",
    "\n",
    "Git es un sistema de control de versiones distribuido, lo que significa que un clon local del proyecto **es un repositorio de control de versiones completo**. Estos repositorios locales plenamente funcionales permiten trabajar sin conexión o de forma remota con facilidad. Los desarrolladores confirman su trabajo localmente y, a continuación, sincronizan la copia del repositorio con la del servidor. Este paradigma es distinto del control de versiones centralizado, donde los clientes deben sincronizar el código con un servidor antes de crear nuevas versiones.\n",
    "\n",
    "La flexibilidad y popularidad de Git lo convierten en una excelente opción para cualquier equipo. Muchos desarrolladores y graduados universitarios ya saben cómo usar Git. La comunidad de usuarios de Git ha creado recursos para entrenar a los desarrolladores y la popularidad de Git facilita recibir ayuda cuando se necesita. Casi todos los entornos de desarrollo tienen compatibilidad con Git y las herramientas de línea de comandos de Git implementadas en todos los sistemas operativos principales.\n",
    "\n",
    "## Aspectos básicos de Git\n",
    "\n",
    "Cada vez que se guarda el trabajo, Git crea una confirmación. Una confirmación es una instantánea de todos los archivos en un momento dado. Si un archivo no ha cambiado de una confirmación a la siguiente, Git usa el archivo almacenado anteriormente. Este diseño difiere de otros sistemas que almacenan una versión inicial de un archivo y mantienen un registro de las diferencias a lo largo del tiempo.\n",
    "\n",
    "Las confirmaciones crean vínculos a otras confirmaciones, formando un gráfico del historial de desarrollo. Es posible revertir el código a una confirmación anterior, inspeccionar cómo cambian los archivos de una confirmación a la siguiente y revisar información como dónde y cuándo se realizaron los cambios. Las confirmaciones se identifican en Git mediante un hash criptográfico único del contenido de la confirmación. Dado que todo tiene hash, es imposible realizar cambios, perder la información o dañar los archivos sin que Git lo detecte.\n",
    "\n",
    "## Ramas\n",
    "\n",
    "Cada desarrollador **guarda los cambios en su propio repositorio de código local**. Como resultado, puede haber muchos cambios diferentes basados en la misma confirmación. Git proporciona herramientas para aislar los cambios y volver a combinarlos posteriormente. Las ramas, que son punteros ligeros para el trabajo en curso, administran esta separación. Una vez finalizado el trabajo creado en una rama, se puede combinar de nuevo en la rama principal (o troncal) del equipo.\n",
    "\n",
    "## Archivos y confirmaciones\n",
    "\n",
    "Los archivos de Git se encuentran en uno de estos tres estados: modificados, almacenados provisionalmente o confirmados. Cuando se modifica un archivo por primera vez, los cambios solo existen en el directorio de trabajo. Todavía no forman parte de una confirmación ni del historial de desarrollo. El desarrollador debe almacenar provisionalmente los archivos modificados que se incluirán en la confirmación. El área de almacenamiento provisional contiene todos los cambios que se incluirán en la siguiente confirmación. Una vez que el desarrollador esté satisfecho con los archivos almacenados provisionalmente, los archivos se empaquetan como una confirmación con un mensaje que describe lo que ha cambiado. Esta confirmación pasa a formar parte del historial de desarrollo.\n",
    "\n",
    "El almacenamiento provisional permite a los desarrolladores elegir qué cambios de archivo se guardarán en una confirmación para desglosar los cambios grandes en una serie de confirmaciones más pequeñas. Al reducir el ámbito de las confirmaciones, es más fácil revisar el historial de confirmaciones para buscar cambios de archivo específicos.\n",
    "\n",
    "## Ventajas de Git\n",
    "\n",
    "Las ventajas de Git son numerosas.\n",
    "\n",
    "### Desarrollo simultáneo\n",
    "\n",
    "Todos **los usuarios tienen su propia copia local de código y pueden trabajar simultáneamente en sus propias ramas**. Git funciona sin conexión, ya que casi todas las operaciones son locales.\n",
    "\n",
    "### Versiones de lanzamiento más rápidas\n",
    "\n",
    "Las ramas permiten un desarrollo flexible y simultáneo. La rama principal contiene código estable y de alta calidad desde el que publica. Las ramas de características contienen trabajo en curso y se combinan con la rama principal tras la finalización. Al separar la rama de versión del desarrollo en curso, es más fácil administrar código estable y enviar actualizaciones más rápidamente.\n",
    "\n",
    "### Integración incorporada\n",
    "\n",
    "Debido a su popularidad, Git se integra en la mayoría de las herramientas y productos. Todos los IDE principales tienen compatibilidad integrada con Git y muchas herramientas admiten la integración y la implementación continuas, las pruebas automatizadas, el seguimiento de los elementos de trabajo, las métricas y la integración de características de informes con Git. Esta integración simplifica el flujo de trabajo diario.\n",
    "\n",
    "### Sólido soporte técnico de la comunidad\n",
    "\n",
    "**Git es de código abierto y se ha convertido en el estándar de facto para el control de versiones**. No hay escasez de herramientas y recursos disponibles para que los equipos aprovechen. El volumen de soporte técnico de la comunidad para Git en comparación con otros sistemas de control de versiones facilita recibir ayuda cuando se necesita.\n",
    "\n",
    "### Git funciona con cualquier equipo\n",
    "\n",
    "Utilizar Git con una **herramienta de administración de código fuente aumenta la productividad de un equipo** al fomentar la colaboración, aplicar directivas, automatizar procesos y mejorar la visibilidad y la rastreabilidad del trabajo. El equipo puede decidirse por herramientas individuales para el control de versiones, el seguimiento de los elementos de trabajo y la integración e implementación continuas. O bien, pueden elegir una solución como GitHub o Azure DevOps que admita todas estas tareas en un solo lugar.\n",
    "\n",
    "\n",
    "### Solicitudes de incorporación de cambios\n",
    "\n",
    "Use solicitudes de incorporación de cambios para analizar los cambios de código con el equipo antes de combinarlos con la rama principal. Las discusiones en las solicitudes de incorporación de cambios son valiosas para garantizar la calidad del código y aumentar los conocimientos en todo el equipo. Las plataformas como GitHub y Azure DevOps ofrecen una experiencia de solicitud de incorporación de cambios enriquecida en la que los desarrolladores pueden examinar los cambios de archivos, dejar comentarios, inspeccionar confirmaciones, ver compilaciones y votar para aprobar el código.\n",
    "\n",
    "### Directivas de rama\n",
    "\n",
    "Los equipos pueden configurar GitHub y Azure DevOps para aplicar flujos de trabajo y procesos coherentes en todo el equipo. Pueden configurar directivas de rama para asegurarse de que las solicitudes de incorporación de cambios cumplan los requisitos antes de la finalización. Las directivas de rama protegen las ramas importantes al prevenir las inserciones directas, requerir revisores y garantizar compilaciones limpias.\n",
    "\n",
    "\n"
   ]
  },
  {
   "cell_type": "markdown",
   "id": "4354cdf8-dbcd-4df2-981a-ef7fa708c86a",
   "metadata": {
    "tags": []
   },
   "source": [
    "# **¿Qué es Github?**\n",
    "\n",
    "Github es un portal creado para alojar el código de las aplicaciones de cualquier desarrollador, y que fue comprada por Microsoft en junio del 2018. La plataforma está creada para que **los desarrolladores suban el código de sus aplicaciones y herramientas**, y que como usuario no sólo puedas descargarte la aplicación, sino también entrar a su perfil para leer sobre ella o colaborar con su desarrollo.\n",
    "\n",
    "Como su nombre indica, la web utiliza el sistema de control de versiones Git diseñado por Linus Torvalds. Un sistema de gestión de versiones es ese con el que **los desarrolladores pueden administrar su proyecto**, ordenando el código de cada una de las nuevas versiones que sacan de sus aplicaciones para evitar confusiones. Así, al tener copias de cada una de las versiones de su aplicación, no se perderán los estados anteriores cuando se va a actualizar.\n",
    "\n",
    "Así pues, Git es uno de estos sistemas de control, que permite comparar el código de un archivo **para ver las diferencias entre las versiones**, restaurar versiones antiguas si algo sale mal, y fusionar los cambios de distintas versiones. También permite trabajar con distintas ramas de un proyecto, como la de desarrollo para meter nuevas funciones al programa o la de producción para depurar los bugs.\n",
    "\n",
    "Las principales características de la plataforma es que ofrece las mejores características de este tipo de servicios sin perder la simplicidad, y es **una de las más utilizadas del mundo por los desarrolladores**. Es multiplataforma, y tiene multitud de interfaces de usuario.\n",
    "\n",
    "Así pues, Github es un **portal para gestionar las aplicaciones que utilizan el sistema Git**. Además de permitirte mirar el código y descargarte las diferentes versiones de una aplicación, la plataforma también hace las veces de red social conectando desarrolladores con usuarios para que estos puedan colaborar mejorando la aplicación.\n",
    "\n",
    "## ¿Qué ofrece Github?\n",
    "\n",
    "Github permite que los desarrolladores alojen proyectos creando repositorios de forma gratuita. Pero hay que tener una cosa en mente, y es que para **poder subir gratis los proyectos deberán ser de código abierto. Y no quieres que tu aplicación sea de código abierto**, la plataforma también tiene una versión de pago para alojar proyectos de forma privada.\n",
    "\n",
    "Como te hemos mencionado más arriba, en Github también puedes entrar a los proyectos de los demás y colaborar para mejorarlos. Esto quiere decir que los usuarios pueden opinar, dejar sus comentarios sobre el código, colaborar y contribuir mejorando el código. También pueden reportar errores para que los desarrolladores lo mejoren.\n",
    "\n",
    "Github también ofrece una serie de herramientas propias con las que complementar las ventajas que ya tiene el sistema Git de por sí solo. Por ejemplo, puedes crear una Wiki para cada proyecto, de forma que puedas ofrecer toda la información sobre él y anotar todos los cambios de las diferentes versiones.\n",
    "\n",
    "También tiene un sistema de seguimiento de problemas, para que otras personas puedan hacer mejoras, sugerencias y optimizaciones en los proyectos. Ofrece también una herramienta de revisión de código, de forma que no sólo se pueda mirar el código fuente de una herramienta, sino que también se pueden dejar anotaciones para que su creador o tú mismo después si es tu proyecto las podáis revisar. Se pueden crear discusiones también alrededor de estas anotaciones para mejorar y optimizar el código.\n",
    "\n",
    "A su vez, se pueden encontrar gráficos para ver cómo trabajan los desarrolladores en sus proyectos y bifurcaciones del proyecto, viendo las actualizaciones realizadas a partir de la primera versión o los cambios que se han realizado. Y por último también se incluyen características de redes sociales, como un sistema para seguir a tus creadores favoritos y ni perderte sus actualizaciones.\n"
   ]
  },
  {
   "cell_type": "markdown",
   "id": "36312251-14e3-47be-8dd4-b512e399bcbe",
   "metadata": {},
   "source": [
    "# **¿Qué son Magic Cells**\n",
    "\n",
    "Las llamadas magias o comandos magicos en IPython / Jupyter notebooks son shortcuts que nos permite realizar acciones sobre nuestro sistema operativo mayormente e interactuar con nuestro shell o notebook, existen dos tipos de magias, y estas se invocan usando el carácter “%”, los magic commands se dividen en dos tipos:\n",
    "\n",
    "%line_magic (afectan una sola linea de codigo)\n",
    "%% cell_magic (afectan una celda)"
   ]
  },
  {
   "cell_type": "code",
   "execution_count": 3,
   "id": "54285e0d-033d-4406-9635-1e05fb64cf2e",
   "metadata": {
    "tags": []
   },
   "outputs": [
    {
     "name": "stdout",
     "output_type": "stream",
     "text": [
      "1 squared is 1\n",
      "2 squared is 4\n",
      "3 squared is 9\n"
     ]
    }
   ],
   "source": [
    "def square(x):\n",
    "\t\t\"\"\"square a number\"\"\"\n",
    "\t\treturn x ** 2\n",
    "\n",
    "for N in range(1, 4):\n",
    "\t\tprint(N, \"squared is\", square(N))"
   ]
  },
  {
   "cell_type": "code",
   "execution_count": 8,
   "id": "917fa89a-c516-40cf-94fb-d0f51abd6591",
   "metadata": {
    "tags": []
   },
   "outputs": [
    {
     "name": "stdout",
     "output_type": "stream",
     "text": [
      "192 µs ± 11.1 µs per loop (mean ± std. dev. of 7 runs, 1,000 loops each)\n"
     ]
    }
   ],
   "source": [
    "#Ejemplo\n",
    "%timeit L = [n ** 2 for n in range(1000)]"
   ]
  },
  {
   "cell_type": "markdown",
   "id": "255895ed-0f25-430f-a27e-af303547c957",
   "metadata": {},
   "source": [
    "## Magics para hacer Debug\n",
    "\n",
    "Existen dos herramientas muy buenas para este tema, la primera es %xmode que nos permite extender la forma en que el traceback de python nos entrega la información de los errores.\n",
    "\n",
    "**Controlling Exceptions: %xmode**\n",
    "\n",
    "Posee tres modos\n",
    "\n",
    "Plain (forma reducida del traceback)\n",
    "Context (por defecto)\n",
    "Verbose (forma extendida de traceback)"
   ]
  },
  {
   "cell_type": "code",
   "execution_count": 10,
   "id": "490687a3-e886-4dd6-8969-f3c0361f8d3d",
   "metadata": {
    "tags": []
   },
   "outputs": [
    {
     "name": "stdout",
     "output_type": "stream",
     "text": [
      "Exception reporting mode: Plain\n",
      "Automatic pdb calling has been turned ON\n"
     ]
    }
   ],
   "source": [
    "%xmode Plain\n",
    "%pdb on\n",
    "\n",
    "def func1(a, b):\n",
    "\treturn a / b\n",
    "\n",
    "def func2(x):\n",
    "\ta = x\n",
    "\tb = x - 1\n",
    "\treturn func1(a, b)"
   ]
  },
  {
   "cell_type": "code",
   "execution_count": null,
   "id": "bc0a5802-3b74-4470-9820-0b16b67cee85",
   "metadata": {},
   "outputs": [],
   "source": [
    "func2(1)\n",
    "\n",
    "Exception reporting mode: Plain\n",
    "Automatic pdb calling has been turned ON\n",
    "\n",
    "Traceback (most recent call last):\n",
    "\n",
    "  File \"<ipython-input-2-7cb498ea7ed1>\", line 1, in <module>\n",
    "    func2(1)\n",
    "\n",
    "File \"<ipython-input-1-da236cd1aa14>\", line 5, in func1\n",
    "    return a / b\n",
    "\n",
    "ZeroDivisionError: division by zero\n",
    "\n",
    "> <ipython-input-1-da236cd1aa14>(5)func1()\n",
    "      3 \n",
    "      4 def func1(a, b):\n",
    "----> 5         return a / b\n",
    "      6 \n",
    "      7 def func2(x):\n",
    "\n",
    "ipdb>"
   ]
  },
  {
   "cell_type": "markdown",
   "id": "2c1246a6-9d3f-439d-a57c-b8ee1388d669",
   "metadata": {},
   "source": [
    "### Profiling and Timing Code\n",
    "\n",
    "En el proceso de desarrollo de código siempre existirán esos “trade-offs” entre simplicidad y rendimiento, aunque es recomendable que nuestro código tenga una funcionalidad de 100% antes de pensar siquiera en optimizar algún proceso o función del mismo, si, y solo si nuestro código funciona comencemos el proceso de optimización revisando algunas cosas para poder encontrar los cuellos de botella.\n",
    "\n",
    "==Aquí algunos de los comandos:==\n",
    "\n",
    "> %time Mide el tiempo de ejecicion de una sentencia\n",
    "> %timeit Mide repetidamente el tiempo ejecución de una sola sentencia para mayor precisión\n",
    "> %prun Corre el código con el profiler\n",
    "> %lprun Corre el código línea por línea con el profiler\n",
    "> %memit Mide el uso de memoria de una sola sentencia\n",
    "> %mprun Corre el codigo linea por linea usando el memory profiler\n",
    "\n",
    "Aunque para las ultimas 4 magic commands debes instalar (conda o pip) las extensiones line_profiler y memory_profiler para el detalle particular de cada comando es importante revisar la documentacion de IPython, no si eres nuevo en python tenlo en mente revisalo y continua aprendiendo si eres mas avanzado espero compartas algun ejemplo en los comentarios con una aplicacion sencilla y como utilizaste el profiler.\n",
    "\n",
    "Este es el primer articulo de varios en forma de tutorial que espero escribir en las siguientes semanas derivado de lo aprendido en las clases de la Escuela de Ciencia de Datos de Platzi y que en su momento me quede con cara de what?, que espero les ayude a complementar lo que vamos aprendiendo y sea un de mucha utilidad para aquellos que no somos tan experimentados o tan versados en las herramientas del data science."
   ]
  }
 ],
 "metadata": {
  "kernelspec": {
   "display_name": "Python 3 (ipykernel)",
   "language": "python",
   "name": "python3"
  },
  "language_info": {
   "codemirror_mode": {
    "name": "ipython",
    "version": 3
   },
   "file_extension": ".py",
   "mimetype": "text/x-python",
   "name": "python",
   "nbconvert_exporter": "python",
   "pygments_lexer": "ipython3",
   "version": "3.11.5"
  }
 },
 "nbformat": 4,
 "nbformat_minor": 5
}
